{
  "nbformat": 4,
  "nbformat_minor": 0,
  "metadata": {
    "colab": {
      "provenance": [],
      "authorship_tag": "ABX9TyPjxl2vfC+5H0yoRNOMzMdw",
      "include_colab_link": true
    },
    "kernelspec": {
      "name": "python3",
      "display_name": "Python 3"
    },
    "language_info": {
      "name": "python"
    }
  },
  "cells": [
    {
      "cell_type": "markdown",
      "metadata": {
        "id": "view-in-github",
        "colab_type": "text"
      },
      "source": [
        "<a href=\"https://colab.research.google.com/github/mMona333/ML_TermProject/blob/main/NearestNeighbor_Outline.ipynb\" target=\"_parent\"><img src=\"https://colab.research.google.com/assets/colab-badge.svg\" alt=\"Open In Colab\"/></a>"
      ]
    },
    {
      "cell_type": "markdown",
      "source": [
        "# Machine Learning Term Project : Phase 2\n",
        "Name: **Team Nearest Neighbor**\n",
        "\n",
        "Team Members:\n",
        "* Monali Mohapatra [203002549] (POC)\n",
        "* ALEXANDER FREDERIC [208001098]\n",
        "* BENJAMIN FRIEDMAN[202006048]"
      ],
      "metadata": {
        "id": "e3BBRNvQG-Yb"
      }
    },
    {
      "cell_type": "markdown",
      "source": [
        "# Dataset [enter dataset name]"
      ],
      "metadata": {
        "id": "g_EHwgB2GmMV"
      }
    },
    {
      "cell_type": "markdown",
      "source": [
        "# a.) Brief exploration of each dataset:\n",
        "\n",
        "[introduce the dataset used in this notebook and the machine learnig task that will be used - specify dataset source, task description, and goals.]"
      ],
      "metadata": {
        "id": "OAIkAP8DHhKS"
      }
    },
    {
      "cell_type": "markdown",
      "source": [
        "# b.) Pre-Processing of Dataset:"
      ],
      "metadata": {
        "id": "ld95swv6Idu5"
      }
    },
    {
      "cell_type": "code",
      "source": [
        "# load dataset"
      ],
      "metadata": {
        "id": "weR2ES9oSRec"
      },
      "execution_count": null,
      "outputs": []
    },
    {
      "cell_type": "code",
      "source": [
        "# preview data and analyze for characteristics (fill missing data if needed)"
      ],
      "metadata": {
        "id": "eL55qBYKSWKk"
      },
      "execution_count": null,
      "outputs": []
    },
    {
      "cell_type": "markdown",
      "source": [
        "[discuss insights, potential challenges, and patterns]"
      ],
      "metadata": {
        "id": "MjPafnGmShsw"
      }
    },
    {
      "cell_type": "markdown",
      "source": [
        "# c.) Feature Extraction:"
      ],
      "metadata": {
        "id": "-4JHPpPrSrPP"
      }
    },
    {
      "cell_type": "code",
      "source": [
        "# feature engineering or feature learning on dataset"
      ],
      "metadata": {
        "id": "W0R2IqZTTYqF"
      },
      "execution_count": null,
      "outputs": []
    },
    {
      "cell_type": "markdown",
      "source": [
        "[justify why specific steps included in feature engineering/ learning were taken and purpose]"
      ],
      "metadata": {
        "id": "dOtmj3Y6TnkI"
      }
    },
    {
      "cell_type": "markdown",
      "source": [
        "# d.) Processing dataset with 2 ML methods:"
      ],
      "metadata": {
        "id": "o61T7RbfT-hq"
      }
    },
    {
      "cell_type": "code",
      "source": [
        "# ML method 1 implimentation:"
      ],
      "metadata": {
        "id": "4but7-79ULi4"
      },
      "execution_count": null,
      "outputs": []
    },
    {
      "cell_type": "markdown",
      "source": [
        "[justify steps in implimentation and explain different aspects]"
      ],
      "metadata": {
        "id": "x2s3GbzMUPec"
      }
    },
    {
      "cell_type": "code",
      "source": [
        "# ML method 2 implimentation:"
      ],
      "metadata": {
        "id": "Rp0ZYIqtUgBS"
      },
      "execution_count": null,
      "outputs": []
    },
    {
      "cell_type": "markdown",
      "source": [
        "[justify steps in implimentation and explain different aspects]"
      ],
      "metadata": {
        "id": "XFojFblOUjYm"
      }
    },
    {
      "cell_type": "markdown",
      "source": [
        "# e.) Comparative Analysis of methods:\n",
        "\n",
        "[compare the 2 MLMs uses]"
      ],
      "metadata": {
        "id": "KRpJuGl6Usxh"
      }
    },
    {
      "cell_type": "markdown",
      "source": [
        "# f.) Ethics Issues:\n",
        "\n",
        "[ Discuss ethics issues for the datasets and each tasks carried out]"
      ],
      "metadata": {
        "id": "j1Fvkn6pVAt5"
      }
    },
    {
      "cell_type": "markdown",
      "source": [
        "# g.) Bibliography:\n",
        "\n",
        "[\n",
        "  * soruce 1\n",
        "\n",
        "]"
      ],
      "metadata": {
        "id": "KZOCZ5HoVURc"
      }
    }
  ]
}