{
 "cells": [
  {
   "cell_type": "markdown",
   "metadata": {
    "id": "DAO8AZsc266y"
   },
   "source": [
    "# [Name]\n",
    "# Model \\#2\n",
    "---"
   ]
  },
  {
   "cell_type": "markdown",
   "metadata": {
    "id": "rJOtXeNg38_u"
   },
   "source": [
    "# Preamble"
   ]
  },
  {
   "cell_type": "code",
   "execution_count": 1,
   "metadata": {
    "id": "Ldu0WSDK4IjA"
   },
   "outputs": [
    {
     "name": "stderr",
     "output_type": "stream",
     "text": [
      "<>:4: SyntaxWarning: invalid escape sequence '\\ '\n",
      "<>:4: SyntaxWarning: invalid escape sequence '\\ '\n",
      "/var/folders/41/3d45b9nn639g7t5rnlx8g0m40000gn/T/ipykernel_55224/3524984580.py:4: SyntaxWarning: invalid escape sequence '\\ '\n",
      "  '''\n"
     ]
    },
    {
     "data": {
      "text/plain": [
       "\"\\n# mount Google Drive in Google Colab\\nfrom google.colab import drive\\ndrive.mount('/content/drive')\\n\\n# change directory using the magic command %cd\\n### replace [MY PATH] below with your own path in Google Drive ###\\n### %cd /content/drive/My\\\\ Drive/[MY PATH] ###\\n\""
      ]
     },
     "execution_count": 1,
     "metadata": {},
     "output_type": "execute_result"
    }
   ],
   "source": [
    "# optional code cell when using Google Colab with Google Drive\n",
    "\n",
    "# remove the docstring comment block below in order to mount Google Drive\n",
    "'''\n",
    "# mount Google Drive in Google Colab\n",
    "from google.colab import drive\n",
    "drive.mount('/content/drive')\n",
    "\n",
    "# change directory using the magic command %cd\n",
    "### replace [MY PATH] below with your own path in Google Drive ###\n",
    "### %cd /content/drive/My\\ Drive/[MY PATH] ###\n",
    "'''"
   ]
  },
  {
   "cell_type": "code",
   "execution_count": 1,
   "metadata": {
    "id": "rjUKWdVD_Eqh"
   },
   "outputs": [],
   "source": [
    "# import relevant Python libraries\n",
    "\n",
    "### Your import commands go here ###\n",
    "\n",
    "import numpy as np\n",
    "import pandas as pd\n",
    "from scipy import stats as sps\n",
    "from matplotlib import pyplot as plt\n",
    "from mpl_toolkits.mplot3d import Axes3D\n",
    "from IPython.display import display, Latex\n",
    "\n",
    "training_data = pd.read_csv('')\n",
    "test_data = pd.read_csv('')\n"
   ]
  },
  {
   "cell_type": "markdown",
   "metadata": {
    "id": "zhwGhIEGBSr9"
   },
   "source": [
    "# **1. Machine Learning for '___________'**"
   ]
  },
  {
   "cell_type": "markdown",
   "metadata": {
    "id": "2jXwcr_YBSr_"
   },
   "source": [
    "## Title"
   ]
  },
  {
   "cell_type": "code",
   "execution_count": null,
   "metadata": {
    "id": "h6MdU0VkBSsA"
   },
   "outputs": [],
   "source": []
  }
 ],
 "metadata": {
  "colab": {
   "provenance": []
  },
  "kernelspec": {
   "display_name": "Python 3",
   "language": "python",
   "name": "python3"
  },
  "language_info": {
   "codemirror_mode": {
    "name": "ipython",
    "version": 3
   },
   "file_extension": ".py",
   "mimetype": "text/x-python",
   "name": "python",
   "nbconvert_exporter": "python",
   "pygments_lexer": "ipython3",
   "version": "3.12.7"
  }
 },
 "nbformat": 4,
 "nbformat_minor": 0
}
